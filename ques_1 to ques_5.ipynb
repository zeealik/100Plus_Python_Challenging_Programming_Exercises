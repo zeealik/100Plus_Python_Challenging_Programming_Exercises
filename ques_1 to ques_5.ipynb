{
 "cells": [
  {
   "cell_type": "markdown",
   "metadata": {},
   "source": [
    "Question 1\n",
    "\n",
    "Level 1\n",
    "\n",
    "Question:\n",
    "Write a program which will find all such numbers which are divisible by 7 but are not a multiple of\n",
    "5,\n",
    "between 2000 and 3200 (both included).\n",
    "The numbers obtained should be printed in a comma-separated sequence on a single line.\n",
    "\n",
    "Hints:\n",
    "Consider use range(#begin, #end) method"
   ]
  },
  {
   "cell_type": "code",
   "execution_count": 13,
   "metadata": {},
   "outputs": [
    {
     "name": "stdout",
     "output_type": "stream",
     "text": [
      "[2030, 2065, 2100, 2135, 2170, 2205, 2240, 2275, 2310, 2345, 2380, 2415, 2450, 2485, 2520, 2555, 2590, 2625, 2660, 2695, 2730, 2765, 2800, 2835, 2870, 2905, 2940, 2975, 3010, 3045, 3080, 3115, 3150, 3185]\n"
     ]
    }
   ],
   "source": [
    "nums_list = []\n",
    "for i in range(2000, 3201):   # 3201 will be excluded so\n",
    "    if (i % 7 == 0) and (i % 5 == 0):\n",
    "        nums_list.append(i)\n",
    "        \n",
    "print(nums_list)"
   ]
  },
  {
   "cell_type": "markdown",
   "metadata": {},
   "source": [
    "Level 1\n",
    "\n",
    "Question 2\n",
    "\n",
    "Write a program which can compute the factorial of a given numbers.\n",
    "The results should be printed in a comma-separated sequence on a single line.\n",
    "Suppose the following input is supplied to the program:\n",
    "8\n",
    "Then, the output should be:\n",
    "40320\n",
    "\n",
    "Hints:\n",
    "In case of input data being supplied to the question, it should be assumed to be a console input."
   ]
  },
  {
   "cell_type": "code",
   "execution_count": 17,
   "metadata": {},
   "outputs": [
    {
     "name": "stdout",
     "output_type": "stream",
     "text": [
      "Input any number to get the factorial: 7\n",
      "5040\n"
     ]
    }
   ],
   "source": [
    "def fact(x):\n",
    "    if x == 0:\n",
    "        return 1\n",
    "    return x * fact(x - 1)\n",
    "\n",
    "num = int(input(\"Input any number to get the factorial: \"))\n",
    "print(fact(num))"
   ]
  },
  {
   "cell_type": "markdown",
   "metadata": {},
   "source": [
    "Level 1\n",
    "\n",
    "Question 3\n",
    "\n",
    "Question:\n",
    "With a given integral number n, write a program to generate a dictionary that contains (i, i*i) such\n",
    "that is an integral number between 1 and n (both included). and then the program should print the\n",
    "dictionary.\n",
    "\n",
    "Suppose the following input is supplied to the program:\n",
    "8\n",
    "\n",
    "Then, the output should be:\n",
    "\n",
    "{1: 1, 2: 4, 3: 9, 4: 16, 5: 25, 6: 36, 7: 49, 8: 64}\n",
    "\n",
    "Hints:\n",
    "In case of input data being supplied to the question, it should be assumed to be a console input.\n",
    "Consider use dict()"
   ]
  },
  {
   "cell_type": "code",
   "execution_count": 3,
   "metadata": {},
   "outputs": [
    {
     "name": "stdout",
     "output_type": "stream",
     "text": [
      "Input an Integral Number: 4\n",
      "{1: 1, 2: 4, 3: 9, 4: 16}\n"
     ]
    }
   ],
   "source": [
    "n = int(input(\"Input an Integral Number: \"))\n",
    "d = dict()\n",
    "for i in range(1,n+1):\n",
    "    d[i] = i * i\n",
    "\n",
    "print(d)"
   ]
  },
  {
   "cell_type": "markdown",
   "metadata": {},
   "source": [
    "Level 1\n",
    "\n",
    "Question 4\n",
    "\n",
    "Question:\n",
    "Write a program which accepts a sequence of comma-separated numbers from console and generate a list\n",
    "and a tuple which contains every number.\n",
    "Suppose the following input is supplied to the program:\n",
    "34,67,55,33,12,98\n",
    "\n",
    "Then, the output should be:\n",
    "\n",
    "['34', '67', '55', '33', '12', '98']\n",
    "('34', '67', '55', '33', '12', '98')\n",
    "\n",
    "Hints:\n",
    "\n",
    "In case of input data being supplied to the question, it should be assumed to be a console input.\n",
    "tuple() method can convert list to tuple"
   ]
  },
  {
   "cell_type": "code",
   "execution_count": 2,
   "metadata": {},
   "outputs": [
    {
     "name": "stdout",
     "output_type": "stream",
     "text": [
      "Input some comma seprated numbers : 2323,4444,555,33224,444\n",
      "['2323', '4444', '555', '33224', '444']\n",
      "('2323', '4444', '555', '33224', '444')\n"
     ]
    }
   ],
   "source": [
    "values = input(\"Input some comma seprated numbers : \")\n",
    "l = values.split(\",\")\n",
    "t = tuple(l)\n",
    "\n",
    "print(l)\n",
    "print(t)"
   ]
  },
  {
   "cell_type": "markdown",
   "metadata": {},
   "source": [
    "Level 1\n",
    "\n",
    "Question 5\n",
    "\n",
    "Question:\n",
    "Define a class which has at least two methods:\n",
    "\n",
    "getString: to get a string from console input\n",
    "\n",
    "printString: to print the string in upper case.\n",
    "    \n",
    "Also please include simple test function to test the class methods.\n",
    "\n",
    "Hints:\n",
    "Use __init__ method to construct some parameters"
   ]
  },
  {
   "cell_type": "code",
   "execution_count": 8,
   "metadata": {},
   "outputs": [
    {
     "name": "stdout",
     "output_type": "stream",
     "text": [
      "Enter a string: zeeshan ali khan\n",
      "ZEESHAN ALI KHAN\n"
     ]
    }
   ],
   "source": [
    "class InputOutString(object):\n",
    "    def __init__(self):\n",
    "        self.s = \"\"\n",
    "    def getString(self):\n",
    "        self.s = input(\"Enter a string: \")\n",
    "    def printString(self):\n",
    "        print(self.s.upper())\n",
    "\n",
    "strObj = InputOutString()\n",
    "strObj.getString()\n",
    "strObj.printString()"
   ]
  }
 ],
 "metadata": {
  "kernelspec": {
   "display_name": "Python 3",
   "language": "python",
   "name": "python3"
  },
  "language_info": {
   "codemirror_mode": {
    "name": "ipython",
    "version": 3
   },
   "file_extension": ".py",
   "mimetype": "text/x-python",
   "name": "python",
   "nbconvert_exporter": "python",
   "pygments_lexer": "ipython3",
   "version": "3.7.1"
  }
 },
 "nbformat": 4,
 "nbformat_minor": 2
}
